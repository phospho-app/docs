{
 "cells": [
  {
   "cell_type": "code",
   "execution_count": 1,
   "metadata": {},
   "outputs": [
    {
     "name": "stdout",
     "output_type": "stream",
     "text": [
      "Requirement already satisfied: phospho in /Users/plb/Documents/phospho/code/documentations/mintlify-docs/.venv/lib/python3.11/site-packages (0.2.14)\n",
      "Requirement already satisfied: pydantic<3.0.0,>=2.5.2 in /Users/plb/Documents/phospho/code/documentations/mintlify-docs/.venv/lib/python3.11/site-packages (from phospho) (2.6.1)\n",
      "Requirement already satisfied: requests<3.0.0,>=2.31.0 in /Users/plb/Documents/phospho/code/documentations/mintlify-docs/.venv/lib/python3.11/site-packages (from phospho) (2.31.0)\n",
      "Requirement already satisfied: annotated-types>=0.4.0 in /Users/plb/Documents/phospho/code/documentations/mintlify-docs/.venv/lib/python3.11/site-packages (from pydantic<3.0.0,>=2.5.2->phospho) (0.6.0)\n",
      "Requirement already satisfied: pydantic-core==2.16.2 in /Users/plb/Documents/phospho/code/documentations/mintlify-docs/.venv/lib/python3.11/site-packages (from pydantic<3.0.0,>=2.5.2->phospho) (2.16.2)\n",
      "Requirement already satisfied: typing-extensions>=4.6.1 in /Users/plb/Documents/phospho/code/documentations/mintlify-docs/.venv/lib/python3.11/site-packages (from pydantic<3.0.0,>=2.5.2->phospho) (4.9.0)\n",
      "Requirement already satisfied: charset-normalizer<4,>=2 in /Users/plb/Documents/phospho/code/documentations/mintlify-docs/.venv/lib/python3.11/site-packages (from requests<3.0.0,>=2.31.0->phospho) (3.3.2)\n",
      "Requirement already satisfied: idna<4,>=2.5 in /Users/plb/Documents/phospho/code/documentations/mintlify-docs/.venv/lib/python3.11/site-packages (from requests<3.0.0,>=2.31.0->phospho) (3.6)\n",
      "Requirement already satisfied: urllib3<3,>=1.21.1 in /Users/plb/Documents/phospho/code/documentations/mintlify-docs/.venv/lib/python3.11/site-packages (from requests<3.0.0,>=2.31.0->phospho) (2.2.0)\n",
      "Requirement already satisfied: certifi>=2017.4.17 in /Users/plb/Documents/phospho/code/documentations/mintlify-docs/.venv/lib/python3.11/site-packages (from requests<3.0.0,>=2.31.0->phospho) (2024.2.2)\n",
      "Requirement already satisfied: python-dotenv in /Users/plb/Documents/phospho/code/documentations/mintlify-docs/.venv/lib/python3.11/site-packages (1.0.1)\n",
      "Requirement already satisfied: openai in /Users/plb/Documents/phospho/code/documentations/mintlify-docs/.venv/lib/python3.11/site-packages (1.12.0)\n",
      "Requirement already satisfied: anyio<5,>=3.5.0 in /Users/plb/Documents/phospho/code/documentations/mintlify-docs/.venv/lib/python3.11/site-packages (from openai) (4.2.0)\n",
      "Requirement already satisfied: distro<2,>=1.7.0 in /Users/plb/Documents/phospho/code/documentations/mintlify-docs/.venv/lib/python3.11/site-packages (from openai) (1.9.0)\n",
      "Requirement already satisfied: httpx<1,>=0.23.0 in /Users/plb/Documents/phospho/code/documentations/mintlify-docs/.venv/lib/python3.11/site-packages (from openai) (0.26.0)\n",
      "Requirement already satisfied: pydantic<3,>=1.9.0 in /Users/plb/Documents/phospho/code/documentations/mintlify-docs/.venv/lib/python3.11/site-packages (from openai) (2.6.1)\n",
      "Requirement already satisfied: sniffio in /Users/plb/Documents/phospho/code/documentations/mintlify-docs/.venv/lib/python3.11/site-packages (from openai) (1.3.0)\n",
      "Requirement already satisfied: tqdm>4 in /Users/plb/Documents/phospho/code/documentations/mintlify-docs/.venv/lib/python3.11/site-packages (from openai) (4.66.1)\n",
      "Requirement already satisfied: typing-extensions<5,>=4.7 in /Users/plb/Documents/phospho/code/documentations/mintlify-docs/.venv/lib/python3.11/site-packages (from openai) (4.9.0)\n",
      "Requirement already satisfied: idna>=2.8 in /Users/plb/Documents/phospho/code/documentations/mintlify-docs/.venv/lib/python3.11/site-packages (from anyio<5,>=3.5.0->openai) (3.6)\n",
      "Requirement already satisfied: certifi in /Users/plb/Documents/phospho/code/documentations/mintlify-docs/.venv/lib/python3.11/site-packages (from httpx<1,>=0.23.0->openai) (2024.2.2)\n",
      "Requirement already satisfied: httpcore==1.* in /Users/plb/Documents/phospho/code/documentations/mintlify-docs/.venv/lib/python3.11/site-packages (from httpx<1,>=0.23.0->openai) (1.0.2)\n",
      "Requirement already satisfied: h11<0.15,>=0.13 in /Users/plb/Documents/phospho/code/documentations/mintlify-docs/.venv/lib/python3.11/site-packages (from httpcore==1.*->httpx<1,>=0.23.0->openai) (0.14.0)\n",
      "Requirement already satisfied: annotated-types>=0.4.0 in /Users/plb/Documents/phospho/code/documentations/mintlify-docs/.venv/lib/python3.11/site-packages (from pydantic<3,>=1.9.0->openai) (0.6.0)\n",
      "Requirement already satisfied: pydantic-core==2.16.2 in /Users/plb/Documents/phospho/code/documentations/mintlify-docs/.venv/lib/python3.11/site-packages (from pydantic<3,>=1.9.0->openai) (2.16.2)\n",
      "Requirement already satisfied: requests in /Users/plb/Documents/phospho/code/documentations/mintlify-docs/.venv/lib/python3.11/site-packages (2.31.0)\n",
      "Requirement already satisfied: charset-normalizer<4,>=2 in /Users/plb/Documents/phospho/code/documentations/mintlify-docs/.venv/lib/python3.11/site-packages (from requests) (3.3.2)\n",
      "Requirement already satisfied: idna<4,>=2.5 in /Users/plb/Documents/phospho/code/documentations/mintlify-docs/.venv/lib/python3.11/site-packages (from requests) (3.6)\n",
      "Requirement already satisfied: urllib3<3,>=1.21.1 in /Users/plb/Documents/phospho/code/documentations/mintlify-docs/.venv/lib/python3.11/site-packages (from requests) (2.2.0)\n",
      "Requirement already satisfied: certifi>=2017.4.17 in /Users/plb/Documents/phospho/code/documentations/mintlify-docs/.venv/lib/python3.11/site-packages (from requests) (2024.2.2)\n"
     ]
    }
   ],
   "source": [
    "!pip install --upgrade phospho\n",
    "! pip install python-dotenv\n",
    "! pip install openai\n",
    "! pip install requests"
   ]
  },
  {
   "cell_type": "code",
   "execution_count": 2,
   "metadata": {},
   "outputs": [],
   "source": [
    "import dotenv\n",
    "import phospho\n",
    "import requests\n",
    "# Load the .env file\n",
    "dotenv.load_dotenv()\n",
    "\n",
    "# Check that the required environment variables are set\n",
    "import os\n",
    "\n",
    "assert 'PHOSPHO_API_KEY' in os.environ, 'PHOSPHO_API_KEY not set'\n",
    "assert 'PHOSPHO_PROJECT_ID' in os.environ, 'PHOSPHO_API_SECRET not set'\n",
    "assert 'OPENAI_API_KEY' in os.environ, 'OPENAI_API_KEY not set'\n",
    "\n",
    "PHOSPHO_BASE_URL = \"http://127.0.0.1:8000\""
   ]
  },
  {
   "cell_type": "code",
   "execution_count": 3,
   "metadata": {},
   "outputs": [],
   "source": [
    "# Create a dummy agent (random based)\n",
    "from openai import OpenAI\n",
    "client = OpenAI() \n",
    "\n",
    "def my_answer_generation(user_prompt: str, model_name: str) -> str:\n",
    "    completion = client.chat.completions.create(\n",
    "    model=\"gpt-3.5-turbo\",\n",
    "    messages=[\n",
    "        {\"role\": \"system\", \"content\": \"You are a helpful assistant.\"},\n",
    "        {\"role\": \"user\", \"content\": user_prompt}\n",
    "    ]\n",
    "    )\n",
    "\n",
    "    return(completion.choices[0].message.content)"
   ]
  },
  {
   "cell_type": "code",
   "execution_count": 4,
   "metadata": {},
   "outputs": [
    {
     "data": {
      "text/plain": [
       "'The capital of France is Paris.'"
      ]
     },
     "execution_count": 4,
     "metadata": {},
     "output_type": "execute_result"
    }
   ],
   "source": [
    "# Try the agent\n",
    "my_answer_generation(\"What is the capital of France?\", \"gpt-4\")"
   ]
  },
  {
   "cell_type": "code",
   "execution_count": 5,
   "metadata": {},
   "outputs": [],
   "source": [
    "# Init the phospho client\n",
    "phospho.init()\n",
    "\n",
    "# Update the function\n",
    "def my_answer_generation(user_prompt: str, model_name: str) -> str:\n",
    "\n",
    "    completion = client.chat.completions.create(\n",
    "    model=\"gpt-3.5-turbo\",\n",
    "    messages=[\n",
    "        {\"role\": \"system\", \"content\": \"You are a helpful assistant.\"},\n",
    "        {\"role\": \"user\", \"content\": user_prompt}\n",
    "    ]\n",
    "    )\n",
    "\n",
    "    answer = completion.choices[0].message.content\n",
    "\n",
    "    phospho.log(\n",
    "        input=user_prompt,\n",
    "        output=answer,\n",
    "    )\n",
    "\n",
    "    return answer"
   ]
  },
  {
   "cell_type": "code",
   "execution_count": 8,
   "metadata": {},
   "outputs": [
    {
     "name": "stdout",
     "output_type": "stream",
     "text": [
      "AB test created successfully.\n",
      "Response: {'id': '9c5c5c4260fc4aca9ee7da349298a9c6', 'project_id': '6d03f091290b4719809c489b78c2344b', 'org_id': '3fe248a3-834c-4c26-8dcc-4e55112f702d', 'name': 'Test A vs. Test B', 'description': 'A description of the AB test comparing variations A and B.', 'created_at': 1707464331, 'terminated_at': None, 'status': 'started', 'variations': [{'variation_name': 'GPT 3.5 turbo', 'allocation_rate': 0.5, 'features': {'model_name': 'gpt-3.5-turbo'}}, {'variation_name': 'GPT 4', 'allocation_rate': 0.5, 'features': {'model_name': 'gpt-4'}}], 'summary': {}}\n"
     ]
    }
   ],
   "source": [
    "# Create an AB test\n",
    "\n",
    "# Define the JSON payload for the ABTestCreationRequest\n",
    "payload = {\n",
    "    \"name\": \"Test A vs. Test B\",\n",
    "    \"description\": \"A description of the AB test comparing variations A and B.\",\n",
    "    \"variations\": [\n",
    "        {\"variation_name\": \"GPT 3.5 turbo\", \"allocation_rate\": 0.5, \"features\": {\"model_name\": \"gpt-3.5-turbo\"}},\n",
    "        {\"variation_name\": \"GPT 4\", \"allocation_rate\": 0.5, \"features\": {\"model_name\": \"gpt-4\"}}\n",
    "    ]\n",
    "}\n",
    "\n",
    "# Include the necessary headers, such as Authorization if needed\n",
    "headers = {\n",
    "    \"Authorization\": f\"Bearer {os.environ['PHOSPHO_API_KEY']}\",\n",
    "    \"Content-Type\": \"application/json\"\n",
    "}\n",
    "\n",
    "# Send the POST request\n",
    "url = f\"{PHOSPHO_BASE_URL}/v2/projects/{os.environ['PHOSPHO_PROJECT_ID']}/ab-tests\"\n",
    "response = requests.post(url, json=payload, headers=headers)\n",
    "\n",
    "# Check the response\n",
    "if response.status_code == 200:\n",
    "    print(\"AB test created successfully.\")\n",
    "    print(\"Response:\", response.json())\n",
    "    ab_test_id = response.json()[\"id\"]\n",
    "else:\n",
    "    print(\"Failed to create AB test. Status code:\", response.status_code)\n",
    "    print(\"Response:\", response.text)"
   ]
  },
  {
   "cell_type": "code",
   "execution_count": 9,
   "metadata": {},
   "outputs": [],
   "source": [
    "ab_test_id = \"9c5c5c4260fc4aca9ee7da349298a9c6\""
   ]
  },
  {
   "cell_type": "code",
   "execution_count": 15,
   "metadata": {},
   "outputs": [],
   "source": [
    "# Add the AB testing in our function\n",
    "import random\n",
    "\n",
    "# Get the AB testing from the API\n",
    "# Include the necessary headers, such as Authorization if needed\n",
    "headers = {\n",
    "    \"Authorization\": f\"Bearer {os.environ['PHOSPHO_API_KEY']}\",\n",
    "    \"Content-Type\": \"application/json\"\n",
    "}\n",
    "\n",
    "# Send the POST request\n",
    "url = f\"{PHOSPHO_BASE_URL}/v2/ab-tests/{ab_test_id}\"\n",
    "response = requests.get(url, headers=headers)\n",
    "\n",
    "# Check the response\n",
    "if response.status_code == 200:\n",
    "    ab_test = response.json()\n",
    "else:\n",
    "    raise ValueError(\"Failed to create AB test. Status code:\", response.status_code)\n",
    "\n",
    "# Update the function\n",
    "def my_answer_generation(user_prompt: str, model_name: str) -> str:\n",
    "\n",
    "    # Get the variations from the AB test\n",
    "    variations = ab_test[\"variations\"]\n",
    "\n",
    "    # Get a random float between 0 and 1\n",
    "    random_number = random.random()\n",
    "\n",
    "    # Select the corresponding variation\n",
    "    cumulated_rate = 0\n",
    "    for variation in variations:\n",
    "        cumulated_rate += variation[\"allocation_rate\"]\n",
    "        if random_number <= cumulated_rate:\n",
    "            model_name = variation[\"features\"][\"model_name\"]\n",
    "            break\n",
    "    \n",
    "    # Optional: log the model name\n",
    "    print(f\"Using model {model_name}\")\n",
    "\n",
    "    completion = client.chat.completions.create(\n",
    "    model=model_name, # Use the model_name from the AB test\n",
    "    messages=[\n",
    "        {\"role\": \"system\", \"content\": \"You are a helpful assistant.\"},\n",
    "        {\"role\": \"user\", \"content\": user_prompt}\n",
    "    ]\n",
    "    )\n",
    "\n",
    "    answer = completion.choices[0].message.content\n",
    "\n",
    "    phospho.log(\n",
    "        input=user_prompt,\n",
    "        output=answer,\n",
    "    )\n",
    "\n",
    "    return answer\n"
   ]
  },
  {
   "cell_type": "code",
   "execution_count": null,
   "metadata": {},
   "outputs": [],
   "source": []
  }
 ],
 "metadata": {
  "kernelspec": {
   "display_name": ".venv",
   "language": "python",
   "name": "python3"
  },
  "language_info": {
   "codemirror_mode": {
    "name": "ipython",
    "version": 3
   },
   "file_extension": ".py",
   "mimetype": "text/x-python",
   "name": "python",
   "nbconvert_exporter": "python",
   "pygments_lexer": "ipython3",
   "version": "3.11.6"
  }
 },
 "nbformat": 4,
 "nbformat_minor": 2
}
